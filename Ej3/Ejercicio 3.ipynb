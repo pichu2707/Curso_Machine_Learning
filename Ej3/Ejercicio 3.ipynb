{
 "cells": [
  {
   "cell_type": "code",
   "execution_count": 1,
   "id": "dfee30a7",
   "metadata": {},
   "outputs": [],
   "source": [
    "# Hemos buscado y descargado el conjunto de datos de Breast Cancer Wisconsin del repertorio UCI Machine Learning"
   ]
  },
  {
   "cell_type": "code",
   "execution_count": 2,
   "id": "2e7c9cb9",
   "metadata": {},
   "outputs": [],
   "source": [
    "import pandas as pd\n",
    "import numpy as np\n",
    "from sklearn.impute import SimpleImputer, KNNImputer"
   ]
  },
  {
   "cell_type": "code",
   "execution_count": 3,
   "id": "b7063168",
   "metadata": {},
   "outputs": [
    {
     "name": "stdout",
     "output_type": "stream",
     "text": [
      "(699, 11)\n"
     ]
    }
   ],
   "source": [
    "#Comenzamos a cargarlo el DataFrame y los nombres de columnas\n",
    "col_names = ['a','b','c','d','e','f','g','h','i','j','k']\n",
    "df = pd.read_csv('breast-cancer-wisconsin.csv', names=col_names)\n",
    "print(df.shape)"
   ]
  },
  {
   "cell_type": "code",
   "execution_count": 12,
   "id": "451af2db",
   "metadata": {},
   "outputs": [
    {
     "name": "stdout",
     "output_type": "stream",
     "text": [
      "a     0\n",
      "b     0\n",
      "c     0\n",
      "d     0\n",
      "e     0\n",
      "f     0\n",
      "g    16\n",
      "h     0\n",
      "i     0\n",
      "j     0\n",
      "k     0\n",
      "dtype: int64\n",
      "           a  b  c  d  e  f    g  h   i  j  k\n",
      "23   1057013  8  4  5  1  2  NaN  7   3  1  4\n",
      "40   1096800  6  6  6  9  6  NaN  7   8  1  2\n",
      "139  1183246  1  1  1  1  1  NaN  2   1  1  2\n",
      "145  1184840  1  1  3  1  2  NaN  2   1  1  2\n",
      "158  1193683  1  1  2  1  3  NaN  1   1  1  2\n",
      "164  1197510  5  1  1  1  2  NaN  3   1  1  2\n",
      "235  1241232  3  1  4  1  2  NaN  3   1  1  2\n",
      "249   169356  3  1  1  1  2  NaN  3   1  1  2\n",
      "275   432809  3  1  3  1  2  NaN  2   1  1  2\n",
      "292   563649  8  8  8  1  2  NaN  6  10  1  4\n",
      "294   606140  1  1  1  1  2  NaN  2   1  1  2\n",
      "297    61634  5  4  3  1  2  NaN  2   3  1  2\n",
      "315   704168  4  6  5  6  7  NaN  4   9  1  2\n",
      "321   733639  3  1  1  1  2  NaN  3   1  1  2\n",
      "411  1238464  1  1  1  1  1  NaN  2   1  1  2\n",
      "617  1057067  1  1  1  1  1  NaN  1   1  1  2\n"
     ]
    }
   ],
   "source": [
    "#Pasamos a NaN los datos faltantes\n",
    "df[df == '?'] = np.nan\n",
    "print(df.isnull().sum())\n",
    "mask = df['g'].isnull()\n",
    "print(df[mask])"
   ]
  },
  {
   "cell_type": "code",
   "execution_count": 13,
   "id": "f09cc27b",
   "metadata": {},
   "outputs": [
    {
     "name": "stdout",
     "output_type": "stream",
     "text": [
      "           a  b   c   d  e  f   g   h   i  j  k\n",
      "0    1000025  5   1   1  1  2   1   3   1  1  2\n",
      "1    1002945  5   4   4  5  7  10   3   2  1  2\n",
      "2    1015425  3   1   1  1  2   2   3   1  1  2\n",
      "3    1016277  6   8   8  1  3   4   3   7  1  2\n",
      "4    1017023  4   1   1  3  2   1   3   1  1  2\n",
      "..       ... ..  ..  .. .. ..  ..  ..  .. .. ..\n",
      "694   776715  3   1   1  1  3   2   1   1  1  2\n",
      "695   841769  2   1   1  1  2   1   1   1  1  2\n",
      "696   888820  5  10  10  3  7   3   8  10  2  4\n",
      "697   897471  4   8   6  4  3   4  10   6  1  4\n",
      "698   897471  4   8   8  5  4   5  10   4  1  4\n",
      "\n",
      "[683 rows x 11 columns]\n"
     ]
    }
   ],
   "source": [
    "\"\"\" \n",
    "Aplicamos las estrategias de eliminación de los valores que faltan estudiadas y compara sus efectos\n",
    "Cuestiónate si en este caso alguna podría ser una solución factible al problema de los datos perdidos\n",
    "\"\"\"\n",
    "cleaning = df.dropna()\n",
    "print(cleaning)"
   ]
  },
  {
   "cell_type": "code",
   "execution_count": 14,
   "id": "1a9b7cde",
   "metadata": {},
   "outputs": [
    {
     "name": "stdout",
     "output_type": "stream",
     "text": [
      "           a  b   c   d  e  f   g   h   i  j  k\n",
      "0    1000025  5   1   1  1  2   1   3   1  1  2\n",
      "1    1002945  5   4   4  5  7  10   3   2  1  2\n",
      "2    1015425  3   1   1  1  2   2   3   1  1  2\n",
      "3    1016277  6   8   8  1  3   4   3   7  1  2\n",
      "4    1017023  4   1   1  3  2   1   3   1  1  2\n",
      "..       ... ..  ..  .. .. ..  ..  ..  .. .. ..\n",
      "694   776715  3   1   1  1  3   2   1   1  1  2\n",
      "695   841769  2   1   1  1  2   1   1   1  1  2\n",
      "696   888820  5  10  10  3  7   3   8  10  2  4\n",
      "697   897471  4   8   6  4  3   4  10   6  1  4\n",
      "698   897471  4   8   8  5  4   5  10   4  1  4\n",
      "\n",
      "[699 rows x 11 columns]\n"
     ]
    }
   ],
   "source": [
    "# Eliminar filas en las que todos los valores que faltan o son NaN\n",
    "cleaning = df.dropna(how='all')\n",
    "print(cleaning)"
   ]
  },
  {
   "cell_type": "markdown",
   "id": "a8009996",
   "metadata": {},
   "source": [
    "### "
   ]
  },
  {
   "cell_type": "code",
   "execution_count": 16,
   "id": "59990ae5",
   "metadata": {},
   "outputs": [
    {
     "name": "stdout",
     "output_type": "stream",
     "text": [
      "           a  b   c   d  e  f   h   i  j  k\n",
      "0    1000025  5   1   1  1  2   3   1  1  2\n",
      "1    1002945  5   4   4  5  7   3   2  1  2\n",
      "2    1015425  3   1   1  1  2   3   1  1  2\n",
      "3    1016277  6   8   8  1  3   3   7  1  2\n",
      "4    1017023  4   1   1  3  2   3   1  1  2\n",
      "..       ... ..  ..  .. .. ..  ..  .. .. ..\n",
      "694   776715  3   1   1  1  3   1   1  1  2\n",
      "695   841769  2   1   1  1  2   1   1  1  2\n",
      "696   888820  5  10  10  3  7   8  10  2  4\n",
      "697   897471  4   8   6  4  3  10   6  1  4\n",
      "698   897471  4   8   8  5  4  10   4  1  4\n",
      "\n",
      "[699 rows x 10 columns]\n"
     ]
    }
   ],
   "source": [
    "# Eliminar columnas con un valor o más que faltan\n",
    "cleaning = df.dropna(axis=1)\n",
    "print(cleaning)"
   ]
  },
  {
   "cell_type": "code",
   "execution_count": 17,
   "id": "1c935407",
   "metadata": {},
   "outputs": [
    {
     "name": "stdout",
     "output_type": "stream",
     "text": [
      "           a  b   c   d  e  f   g   h   i  j  k\n",
      "0    1000025  5   1   1  1  2   1   3   1  1  2\n",
      "1    1002945  5   4   4  5  7  10   3   2  1  2\n",
      "2    1015425  3   1   1  1  2   2   3   1  1  2\n",
      "3    1016277  6   8   8  1  3   4   3   7  1  2\n",
      "4    1017023  4   1   1  3  2   1   3   1  1  2\n",
      "..       ... ..  ..  .. .. ..  ..  ..  .. .. ..\n",
      "694   776715  3   1   1  1  3   2   1   1  1  2\n",
      "695   841769  2   1   1  1  2   1   1   1  1  2\n",
      "696   888820  5  10  10  3  7   3   8  10  2  4\n",
      "697   897471  4   8   6  4  3   4  10   6  1  4\n",
      "698   897471  4   8   8  5  4   5  10   4  1  4\n",
      "\n",
      "[699 rows x 11 columns]\n"
     ]
    }
   ],
   "source": [
    "#Eliminar columnas cuando todos sus datos faltan\n",
    "cleaning = df.dropna(how='all', axis=1)\n",
    "print(cleaning)"
   ]
  },
  {
   "cell_type": "code",
   "execution_count": 18,
   "id": "1d9a1354",
   "metadata": {},
   "outputs": [
    {
     "name": "stdout",
     "output_type": "stream",
     "text": [
      "(699, 11)\n"
     ]
    }
   ],
   "source": [
    "#Eliminar filas o columnas cuando al menos haya 'n' valores faltantes\n",
    "cleaning = df.dropna(axis=1, thresh=1)\n",
    "print(cleaning.shape)"
   ]
  },
  {
   "cell_type": "code",
   "execution_count": 19,
   "id": "73a1d265",
   "metadata": {},
   "outputs": [],
   "source": [
    "\"\"\"\n",
    "Aplica las estrategias de imputación, tanto univariantes como multivariantes, de valores faltantes estudiadas\n",
    "IMPUTACIÓN VARIANTE:\"\"\"\n",
    "\n",
    "# - Sustitución por un valor constante\n",
    "new_data = df.fillna(0)\n",
    "df.replace(to_replace=np.nan, value=0)\n",
    "\n",
    "#Sustitución por el valor anterior o posterior\n",
    "new_data1= df.fillna(method='pad') # --> Valor anterior\n",
    "new_data2 = df.fillna(method='bfill') #--> Valor porterior\n",
    "\n",
    "# Sustitución por valor interpolado\n",
    "new_data3 = df.interpolate(method='linear', limit_direction='forward')\n",
    "\n",
    "#Clase SimpleImputer\n",
    "imputer = SimpleImputer(missing_values=np.nan, strategy='mean')\n",
    "imputer.fit(df)\n",
    "new_data4 = imputer.transform(df)\n",
    "\n",
    "# iMPUTACION UNIVARIANTE\n",
    "# Modelo KNN\n",
    "\n",
    "x = df[df.columns[:-1]]\n",
    "imputer = KNNImputer()\n",
    "imputer.fit(x)\n",
    "new_data5 = imputer.transform(x)\n"
   ]
  },
  {
   "cell_type": "code",
   "execution_count": 20,
   "id": "0b5284d5",
   "metadata": {},
   "outputs": [
    {
     "data": {
      "text/plain": [
       "<AxesSubplot: >"
      ]
     },
     "execution_count": 20,
     "metadata": {},
     "output_type": "execute_result"
    },
    {
     "data": {
      "image/png": "[encoded data removed]",
      "text/plain": [
       "<Figure size 432x288 with 1 Axes>"
      ]
     },
     "metadata": {
      "needs_background": "light"
     },
     "output_type": "display_data"
    }
   ],
   "source": [
    "x1 = new_data['g'].astype(float)\n",
    "x1.hist()\n",
    "\n",
    "x2 = new_data1['g'].astype(float)\n",
    "x2.hist()\n",
    "\n",
    "x3 = new_data2['g'].astype(float)\n",
    "x3.hist()\n",
    "\n",
    "x4 = new_data3['g'].astype(float)\n",
    "x4.hist()"
   ]
  },
  {
   "cell_type": "code",
   "execution_count": null,
   "id": "7bde1fa6",
   "metadata": {},
   "outputs": [],
   "source": []
  }
 ],
 "metadata": {
  "kernelspec": {
   "display_name": "Python 3 (ipykernel)",
   "language": "python",
   "name": "python3"
  },
  "language_info": {
   "codemirror_mode": {
    "name": "ipython",
    "version": 3
   },
   "file_extension": ".py",
   "mimetype": "text/x-python",
   "name": "python",
   "nbconvert_exporter": "python",
   "pygments_lexer": "ipython3",
   "version": "3.10.6"
  }
 },
 "nbformat": 4,
 "nbformat_minor": 5
}
